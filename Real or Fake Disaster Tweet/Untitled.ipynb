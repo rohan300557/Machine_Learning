{
 "cells": [
  {
   "cell_type": "code",
   "execution_count": 8,
   "metadata": {},
   "outputs": [
    {
     "name": "stdout",
     "output_type": "stream",
     "text": [
      "sf\n"
     ]
    },
    {
     "data": {
      "text/plain": [
       "['s', 'f']"
      ]
     },
     "execution_count": 8,
     "metadata": {},
     "output_type": "execute_result"
    }
   ],
   "source": [
    "i = input()\n",
    "list(i)"
   ]
  },
  {
   "cell_type": "code",
   "execution_count": 15,
   "metadata": {},
   "outputs": [
    {
     "name": "stdout",
     "output_type": "stream",
     "text": [
      "<function mean at 0x000001E20CF2F8C8>\n"
     ]
    }
   ],
   "source": [
    "lst = [4,3,1,5,5,3]\n",
    "length = len(lst)\n",
    "def the_mean(lst,length):\n",
    "    me =  sum(lst)/length\n",
    "    return mean\n",
    "def the_median(lst,length):\n",
    "    lst.sort()\n",
    "    if length % 2 == 0: \n",
    "        median1 = lst[length//2] \n",
    "        median2 = lst[length//2 - 1] \n",
    "        median = (median1 + median2)/2\n",
    "    else: \n",
    "        median = lst[length//2] \n",
    "    return median\n",
    "def the_mode(lst,lenght):\n",
    "    data = Counter(lst) \n",
    "    get_mode = dict(data) \n",
    "    mode = [k for k, v in get_mode.items() if v == max(list(data.values()))] \n",
    "\n",
    "    if len(mode) == length: \n",
    "        get_mode = \"No mode found\"\n",
    "    else: \n",
    "        get_mode = \"Mode is / are: \" + ', '.join(map(str, mode))\n",
    "    return mode"
   ]
  },
  {
   "cell_type": "code",
   "execution_count": null,
   "metadata": {},
   "outputs": [],
   "source": []
  }
 ],
 "metadata": {
  "kernelspec": {
   "display_name": "Python 3",
   "language": "python",
   "name": "python3"
  },
  "language_info": {
   "codemirror_mode": {
    "name": "ipython",
    "version": 3
   },
   "file_extension": ".py",
   "mimetype": "text/x-python",
   "name": "python",
   "nbconvert_exporter": "python",
   "pygments_lexer": "ipython3",
   "version": "3.7.3"
  }
 },
 "nbformat": 4,
 "nbformat_minor": 4
}
